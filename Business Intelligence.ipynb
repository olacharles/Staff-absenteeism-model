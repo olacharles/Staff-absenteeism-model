{
 "cells": [
  {
   "cell_type": "code",
   "execution_count": 2,
   "metadata": {},
   "outputs": [],
   "source": [
    "from ab_module import *\n",
    "model = absenteeism_model('model', 'scaler')\n",
    "model.load_and_clean_data('C:/Users/ooyinbooke/OneDrive - axamansard.com/Data Science/Community/Training Tutorial/Data Science Course Bootcamp 2019/Part_8_Case_Study/S60_L460/Absenteeism_new_data.csv')\n",
    "model.predicted_outputs().to_csv('result4.csv', index=False)"
   ]
  },
  {
   "cell_type": "code",
   "execution_count": null,
   "metadata": {},
   "outputs": [],
   "source": []
  }
 ],
 "metadata": {
  "kernelspec": {
   "display_name": "Python 3",
   "language": "python",
   "name": "python3"
  },
  "language_info": {
   "codemirror_mode": {
    "name": "ipython",
    "version": 3
   },
   "file_extension": ".py",
   "mimetype": "text/x-python",
   "name": "python",
   "nbconvert_exporter": "python",
   "pygments_lexer": "ipython3",
   "version": "3.7.3"
  }
 },
 "nbformat": 4,
 "nbformat_minor": 2
}
